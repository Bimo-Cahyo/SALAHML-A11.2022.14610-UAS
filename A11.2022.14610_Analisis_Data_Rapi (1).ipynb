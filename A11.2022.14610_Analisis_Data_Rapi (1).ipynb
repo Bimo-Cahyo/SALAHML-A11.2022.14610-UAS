{
 "cells": [
  {
   "cell_type": "code",
   "execution_count": null,
   "id": "4558a65b",
   "metadata": {},
   "outputs": [],
   "source": [
    "import pandas as pd\n",
    "import seaborn as sns\n",
    "import warnings\n",
    "import os\n",
    "import matplotlib.pyplot as plt\n",
    "from sklearn.cluster import KMeans\n",
    "from sklearn.model_selection import train_test_split\n",
    "from sklearn.tree import DecisionTreeClassifier\n",
    "from sklearn.metrics import classification_report, accuracy_score\n",
    "from sklearn.impute import SimpleImputer\n",
    "from sklearn.preprocessing import LabelEncoder"
   ]
  },
  {
   "cell_type": "code",
   "execution_count": null,
   "id": "acbdc42c",
   "metadata": {},
   "outputs": [],
   "source": [
    "# Load the dataset\n",
    "file_path = 'dataKasus-1.xlsx'\n",
    "data = pd.read_excel(file_path, sheet_name='2022')  # Replace '2022' with the correct sheet name\n",
    "\n",
    "# Preview the data\n",
    "data.head()"
   ]
  },
  {
   "cell_type": "code",
   "execution_count": null,
   "id": "205af351",
   "metadata": {},
   "outputs": [],
   "source": [
    "# Clean and preprocess the dataset\n",
    "# Step 1: Drop unnecessary columns\n",
    "df_cleaned = data.drop(columns=['Unnamed: 12'])\n",
    "\n",
    "# Step 2: Convert 'USIA' column to numeric\n",
    "df_cleaned['USIA'] = df_cleaned['USIA'].str.extract(r'(\\d+)').astype(float)\n",
    "\n",
    "# Step 3: Standardize binary columns\n",
    "binary_cols = ['RIW HIPERTENSI', 'RIW PE', 'OBESITAS', 'RIW DM', 'RIW HIPERTENSI/PE DALAM KELUARGA', 'SOSEK RENDAH', 'PE/Non PE']\n",
    "binary_mapping = lambda x: 1 if x in ['Ya', 'PE'] else 0\n",
    "df_cleaned[binary_cols] = df_cleaned[binary_cols].apply(lambda col: col.map(binary_mapping))\n",
    "\n",
    "# Show the cleaned data\n",
    "df_cleaned.head()"
   ]
  },
  {
   "cell_type": "code",
   "execution_count": null,
   "id": "35082b84",
   "metadata": {},
   "outputs": [],
   "source": [
    "# Normalize 'USIA' column\n",
    "data['USIA'] = data['USIA'].astype(str)\n",
    "data['USIA'] = data['USIA'].replace({'> 2 tahun': '3', '< 1 tahun': '0'})\n",
    "data['USIA'] = data['USIA'].str.replace(' TH', '').str.replace(' th', '').str.replace(' tahun', '')\n",
    "\n",
    "# Verify the changes\n",
    "data.head()"
   ]
  }
 ],
 "metadata": {
  "kernelspec": {
   "display_name": "Python 3 (ipykernel)",
   "language": "python",
   "name": "python3"
  },
  "language_info": {
   "codemirror_mode": {
    "name": "ipython",
    "version": 3
   },
   "file_extension": ".py",
   "mimetype": "text/x-python",
   "name": "python",
   "nbconvert_exporter": "python",
   "pygments_lexer": "ipython3",
   "version": "3.12.4"
  }
 },
 "nbformat": 4,
 "nbformat_minor": 5
}
